{
 "cells": [
  {
   "cell_type": "code",
   "execution_count": 33,
   "id": "ad2a73d9",
   "metadata": {},
   "outputs": [],
   "source": [
    "import pandas as pd\n",
    "import numpy as np\n",
    "from matplotlib import pyplot as plt"
   ]
  },
  {
   "cell_type": "code",
   "execution_count": 15,
   "id": "ca46260f",
   "metadata": {},
   "outputs": [],
   "source": [
    "brews_df_0 = pd.read_pickle('data/brews_with_costs_0_0_0_0_0_0.pkl')\n",
    "brews_df_5 = pd.read_pickle('data/brews_with_costs_5_0_0_0_0_0.pkl')\n",
    "brews_df_10 = pd.read_pickle('data/brews_with_costs_10_0_0_0_0_0.pkl')\n",
    "brews_df_45 = pd.read_pickle('data/brews_with_costs_45_0_0_0_0_0.pkl')"
   ]
  },
  {
   "cell_type": "code",
   "execution_count": 24,
   "id": "f8b26b94",
   "metadata": {},
   "outputs": [
    {
     "data": {
      "text/plain": [
       "0        147.90\n",
       "1        247.95\n",
       "2        288.55\n",
       "3        147.90\n",
       "4        116.00\n",
       "          ...  \n",
       "25237    111.65\n",
       "25238     46.40\n",
       "25239     23.20\n",
       "25240     46.40\n",
       "25241    223.30\n",
       "Name: value, Length: 25242, dtype: float64"
      ]
     },
     "execution_count": 24,
     "metadata": {},
     "output_type": "execute_result"
    }
   ],
   "source": [
    "brews_df_0['value'] * (1 + 45 / 100)"
   ]
  },
  {
   "cell_type": "code",
   "execution_count": 13,
   "id": "4399f949",
   "metadata": {},
   "outputs": [
    {
     "data": {
      "text/plain": [
       "0        110\n",
       "1        182\n",
       "2        211\n",
       "3        110\n",
       "4         88\n",
       "        ... \n",
       "25237     80\n",
       "25238     32\n",
       "25239     17\n",
       "25240     32\n",
       "25241    163\n",
       "Name: value, Length: 25242, dtype: int64"
      ]
     },
     "execution_count": 13,
     "metadata": {},
     "output_type": "execute_result"
    }
   ],
   "source": [
    "brews_df_10['value']"
   ]
  },
  {
   "cell_type": "code",
   "execution_count": 16,
   "id": "026a2957",
   "metadata": {},
   "outputs": [
    {
     "data": {
      "text/plain": [
       "0        131\n",
       "1        214\n",
       "2        256\n",
       "3        131\n",
       "4        102\n",
       "        ... \n",
       "25237    100\n",
       "25238     42\n",
       "25239     19\n",
       "25240     42\n",
       "25241    191\n",
       "Name: value, Length: 25242, dtype: int64"
      ]
     },
     "execution_count": 16,
     "metadata": {},
     "output_type": "execute_result"
    }
   ],
   "source": [
    "brews_df_45['value']"
   ]
  },
  {
   "cell_type": "code",
   "execution_count": 26,
   "id": "2d22a82a",
   "metadata": {},
   "outputs": [
    {
     "data": {
      "text/html": [
       "<div>\n",
       "<style scoped>\n",
       "    .dataframe tbody tr th:only-of-type {\n",
       "        vertical-align: middle;\n",
       "    }\n",
       "\n",
       "    .dataframe tbody tr th {\n",
       "        vertical-align: top;\n",
       "    }\n",
       "\n",
       "    .dataframe thead th {\n",
       "        text-align: right;\n",
       "    }\n",
       "</style>\n",
       "<table border=\"1\" class=\"dataframe\">\n",
       "  <thead>\n",
       "    <tr style=\"text-align: right;\">\n",
       "      <th></th>\n",
       "      <th>first_ingredient</th>\n",
       "      <th>second_ingredient</th>\n",
       "      <th>third_ingredient</th>\n",
       "      <th>effects</th>\n",
       "      <th>name</th>\n",
       "      <th>value</th>\n",
       "      <th>descriptions</th>\n",
       "    </tr>\n",
       "  </thead>\n",
       "  <tbody>\n",
       "    <tr>\n",
       "      <th>0</th>\n",
       "      <td>Abecean Longfin</td>\n",
       "      <td>Ancestor Moth Wing</td>\n",
       "      <td>Cyrodilic Spadetail</td>\n",
       "      <td>[Fortify Restoration, Damage Stamina]</td>\n",
       "      <td>Potion of Fortify Restoration</td>\n",
       "      <td>102</td>\n",
       "      <td>[Drain the target's Stamina by 12 points., Res...</td>\n",
       "    </tr>\n",
       "    <tr>\n",
       "      <th>1</th>\n",
       "      <td>Abecean Longfin</td>\n",
       "      <td>Ash Creep Cluster</td>\n",
       "      <td>Beehive Husk</td>\n",
       "      <td>[Fortify Sneak, Fortify Destruction]</td>\n",
       "      <td>Potion of Fortify Destruction</td>\n",
       "      <td>171</td>\n",
       "      <td>[Destruction spells are 20% stronger for 60 se...</td>\n",
       "    </tr>\n",
       "    <tr>\n",
       "      <th>2</th>\n",
       "      <td>Abecean Longfin</td>\n",
       "      <td>Ash Creep Cluster</td>\n",
       "      <td>Chaurus Eggs</td>\n",
       "      <td>[Weakness to Poison, Invisibility]</td>\n",
       "      <td>Potion of Invisibility</td>\n",
       "      <td>199</td>\n",
       "      <td>[Invisibility for 16 seconds., Target is 8% we...</td>\n",
       "    </tr>\n",
       "    <tr>\n",
       "      <th>3</th>\n",
       "      <td>Abecean Longfin</td>\n",
       "      <td>Ash Creep Cluster</td>\n",
       "      <td>Cyrodilic Spadetail</td>\n",
       "      <td>[Fortify Restoration, Damage Stamina]</td>\n",
       "      <td>Potion of Fortify Restoration</td>\n",
       "      <td>102</td>\n",
       "      <td>[Drain the target's Stamina by 12 points., Res...</td>\n",
       "    </tr>\n",
       "    <tr>\n",
       "      <th>4</th>\n",
       "      <td>Abecean Longfin</td>\n",
       "      <td>Ash Creep Cluster</td>\n",
       "      <td>Elves Ear</td>\n",
       "      <td>[Weakness to Frost, Resist Fire]</td>\n",
       "      <td>Potion of Resist Fire</td>\n",
       "      <td>80</td>\n",
       "      <td>[Resist 12% of fire damage for 60 seconds., Ta...</td>\n",
       "    </tr>\n",
       "    <tr>\n",
       "      <th>...</th>\n",
       "      <td>...</td>\n",
       "      <td>...</td>\n",
       "      <td>...</td>\n",
       "      <td>...</td>\n",
       "      <td>...</td>\n",
       "      <td>...</td>\n",
       "      <td>...</td>\n",
       "    </tr>\n",
       "    <tr>\n",
       "      <th>25237</th>\n",
       "      <td>Tundra Cotton</td>\n",
       "      <td>Void Salts</td>\n",
       "      <td>NA</td>\n",
       "      <td>[Resist Magic, Fortify Magicka]</td>\n",
       "      <td>Potion of Fortify Magicka</td>\n",
       "      <td>77</td>\n",
       "      <td>[Magicka is increased by 16 points for 60 seco...</td>\n",
       "    </tr>\n",
       "    <tr>\n",
       "      <th>25238</th>\n",
       "      <td>Tundra Cotton</td>\n",
       "      <td>Wisp Wrappings</td>\n",
       "      <td>NA</td>\n",
       "      <td>[Resist Magic]</td>\n",
       "      <td>Potion of Resist Magic</td>\n",
       "      <td>32</td>\n",
       "      <td>[Resist 4% of magic for 60 seconds.]</td>\n",
       "    </tr>\n",
       "    <tr>\n",
       "      <th>25239</th>\n",
       "      <td>Vampire Dust</td>\n",
       "      <td>White Cap</td>\n",
       "      <td>NA</td>\n",
       "      <td>[Restore Magicka]</td>\n",
       "      <td>Potion of Restore Magicka</td>\n",
       "      <td>16</td>\n",
       "      <td>[Restore 20 points of Magicka.]</td>\n",
       "    </tr>\n",
       "    <tr>\n",
       "      <th>25240</th>\n",
       "      <td>Void Salts</td>\n",
       "      <td>Wisp Wrappings</td>\n",
       "      <td>NA</td>\n",
       "      <td>[Resist Magic]</td>\n",
       "      <td>Potion of Resist Magic</td>\n",
       "      <td>32</td>\n",
       "      <td>[Resist 4% of magic for 60 seconds.]</td>\n",
       "    </tr>\n",
       "    <tr>\n",
       "      <th>25241</th>\n",
       "      <td>Wheat</td>\n",
       "      <td>Yellow Mountain Flower</td>\n",
       "      <td>NA</td>\n",
       "      <td>[Fortify Health, Damage Stamina Regen]</td>\n",
       "      <td>Poison of Damage Stamina Regen</td>\n",
       "      <td>154</td>\n",
       "      <td>[Decrease the target's Stamina regeneration by...</td>\n",
       "    </tr>\n",
       "  </tbody>\n",
       "</table>\n",
       "<p>25242 rows × 7 columns</p>\n",
       "</div>"
      ],
      "text/plain": [
       "      first_ingredient       second_ingredient     third_ingredient  \\\n",
       "0      Abecean Longfin      Ancestor Moth Wing  Cyrodilic Spadetail   \n",
       "1      Abecean Longfin       Ash Creep Cluster         Beehive Husk   \n",
       "2      Abecean Longfin       Ash Creep Cluster         Chaurus Eggs   \n",
       "3      Abecean Longfin       Ash Creep Cluster  Cyrodilic Spadetail   \n",
       "4      Abecean Longfin       Ash Creep Cluster            Elves Ear   \n",
       "...                ...                     ...                  ...   \n",
       "25237    Tundra Cotton              Void Salts                   NA   \n",
       "25238    Tundra Cotton          Wisp Wrappings                   NA   \n",
       "25239     Vampire Dust               White Cap                   NA   \n",
       "25240       Void Salts          Wisp Wrappings                   NA   \n",
       "25241            Wheat  Yellow Mountain Flower                   NA   \n",
       "\n",
       "                                      effects                            name  \\\n",
       "0       [Fortify Restoration, Damage Stamina]   Potion of Fortify Restoration   \n",
       "1        [Fortify Sneak, Fortify Destruction]   Potion of Fortify Destruction   \n",
       "2          [Weakness to Poison, Invisibility]          Potion of Invisibility   \n",
       "3       [Fortify Restoration, Damage Stamina]   Potion of Fortify Restoration   \n",
       "4            [Weakness to Frost, Resist Fire]           Potion of Resist Fire   \n",
       "...                                       ...                             ...   \n",
       "25237         [Resist Magic, Fortify Magicka]       Potion of Fortify Magicka   \n",
       "25238                          [Resist Magic]          Potion of Resist Magic   \n",
       "25239                       [Restore Magicka]       Potion of Restore Magicka   \n",
       "25240                          [Resist Magic]          Potion of Resist Magic   \n",
       "25241  [Fortify Health, Damage Stamina Regen]  Poison of Damage Stamina Regen   \n",
       "\n",
       "       value                                       descriptions  \n",
       "0        102  [Drain the target's Stamina by 12 points., Res...  \n",
       "1        171  [Destruction spells are 20% stronger for 60 se...  \n",
       "2        199  [Invisibility for 16 seconds., Target is 8% we...  \n",
       "3        102  [Drain the target's Stamina by 12 points., Res...  \n",
       "4         80  [Resist 12% of fire damage for 60 seconds., Ta...  \n",
       "...      ...                                                ...  \n",
       "25237     77  [Magicka is increased by 16 points for 60 seco...  \n",
       "25238     32               [Resist 4% of magic for 60 seconds.]  \n",
       "25239     16                    [Restore 20 points of Magicka.]  \n",
       "25240     32               [Resist 4% of magic for 60 seconds.]  \n",
       "25241    154  [Decrease the target's Stamina regeneration by...  \n",
       "\n",
       "[25242 rows x 7 columns]"
      ]
     },
     "execution_count": 26,
     "metadata": {},
     "output_type": "execute_result"
    }
   ],
   "source": [
    "brews_df_0"
   ]
  },
  {
   "cell_type": "code",
   "execution_count": 36,
   "id": "e07b93ef",
   "metadata": {},
   "outputs": [
    {
     "data": {
      "text/plain": [
       "<matplotlib.collections.PathCollection at 0x2bc3d8a2ec8>"
      ]
     },
     "execution_count": 36,
     "metadata": {},
     "output_type": "execute_result"
    },
    {
     "data": {
      "image/png": "[encoded data removed]",
      "text/plain": [
       "<Figure size 432x288 with 1 Axes>"
      ]
     },
     "metadata": {
      "needs_background": "light"
     },
     "output_type": "display_data"
    }
   ],
   "source": []
  },
  {
   "cell_type": "code",
   "execution_count": null,
   "id": "ca614c92",
   "metadata": {},
   "outputs": [],
   "source": []
  }
 ],
 "metadata": {
  "kernelspec": {
   "display_name": "Python 3 (ipykernel)",
   "language": "python",
   "name": "python3"
  },
  "language_info": {
   "codemirror_mode": {
    "name": "ipython",
    "version": 3
   },
   "file_extension": ".py",
   "mimetype": "text/x-python",
   "name": "python",
   "nbconvert_exporter": "python",
   "pygments_lexer": "ipython3",
   "version": "3.7.8"
  }
 },
 "nbformat": 4,
 "nbformat_minor": 5
}
